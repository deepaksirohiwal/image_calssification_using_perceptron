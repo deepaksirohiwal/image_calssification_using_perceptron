{
 "cells": [
  {
   "cell_type": "markdown",
   "metadata": {},
   "source": [
    "# Image classification using Perceptron"
   ]
  },
  {
   "cell_type": "markdown",
   "metadata": {},
   "source": [
    "* Since a single perceptron could only be used for binary clssification,we consider only two classes in the first half.Eventually we will extend it to multi-class setting.\n",
    "* Suppose we want to recognize whether the given image is of digit zero or not. Then the problem could be cast as binary classification.\n",
    "* First: create a dataset contains the image of digit iamges written by humans."
   ]
  },
  {
   "cell_type": "code",
   "execution_count": 1,
   "metadata": {},
   "outputs": [],
   "source": [
    "import numpy as np\n",
    "import matplotlib.pyplot as plt\n",
    "import seaborn as sns\n",
    "import os\n",
    "import io\n",
    "import warnings\n",
    "\n",
    "#sklearn imports\n",
    "from sklearn.datasets import fetch_openml\n",
    "from sklearn.preprocessing import MinMaxScaler\n",
    "from sklearn.pipeline import Pipeline\n",
    "from sklearn.dummy import DummyClassifier\n",
    "from sklearn.linear_model import Perceptron\n",
    "from sklearn.metrics import hinge_loss, ConfusionMatrixDisplay, confusion_matrix, precision_recall_curve, precision_score,recall_score,classification_report, make_scorer\n",
    "from sklearn.model_selection import cross_validate, cross_val_predict, GridSearchCV\n",
    "from pprint import pprint\n"
   ]
  },
  {
   "cell_type": "markdown",
   "metadata": {},
   "source": [
    "## Data loading and Spliting"
   ]
  },
  {
   "cell_type": "code",
   "execution_count": 9,
   "metadata": {},
   "outputs": [],
   "source": [
    "X,y= fetch_openml('mnist_784', version=1, return_X_y=True)\n",
    "#it returns Data and label as pandas dataframe"
   ]
  },
  {
   "cell_type": "markdown",
   "metadata": {},
   "source": [
    "The data matrix X and the respective label vector y need to be converted to the numpy array by calling a to_numpy method."
   ]
  },
  {
   "cell_type": "code",
   "execution_count": 10,
   "metadata": {},
   "outputs": [],
   "source": [
    "X=X.to_numpy()\n",
    "y=y.to_numpy()"
   ]
  },
  {
   "cell_type": "code",
   "execution_count": 20,
   "metadata": {},
   "outputs": [
    {
     "name": "stdout",
     "output_type": "stream",
     "text": [
      "Number of samples:70000,type:float64\n",
      "Number of features:784\n",
      "Minimum:0.0, Maximum:255.0\n",
      "Number of classes:10,type:object\n",
      "Labels:['0' '1' '2' '3' '4' '5' '6' '7' '8' '9']\n"
     ]
    }
   ],
   "source": [
    "target_names=np.unique(y)\n",
    "print('Number of samples:{0},type:{1}'.format(X.shape[0],X.dtype))\n",
    "print('Number of features:{0}'.format(X.shape[1]))\n",
    "print('Minimum:{0}, Maximum:{1}'.format(np.min(X),np.max(X)))\n",
    "print('Number of classes:{0},type:{1}'.format(len(target_names),y.dtype))\n",
    "print('Labels:{0}'.format(target_names))"
   ]
  },
  {
   "cell_type": "markdown",
   "metadata": {},
   "source": [
    "* So, by looking at the outcome we can conclude that the each image comes with 784 features and there are such 70000 samples.\n",
    "* Each feature define a pixel in the grid\n",
    "* pixel range [0,255]\n",
    "* Each image comes in 28X28 grid which makes 784\n"
   ]
  },
  {
   "cell_type": "markdown",
   "metadata": {},
   "source": [
    "Standardizing the feature using MinMaxScaler preprocessing"
   ]
  },
  {
   "cell_type": "code",
   "execution_count": 25,
   "metadata": {},
   "outputs": [
    {
     "name": "stdout",
     "output_type": "stream",
     "text": [
      "Minimum:0.0,Maximum1.0\n"
     ]
    }
   ],
   "source": [
    "X=MinMaxScaler().fit_transform(X)\n",
    "print(\"Minimum:{0},Maximum{1}\".format(np.min(X),np.max(X)))"
   ]
  },
  {
   "cell_type": "markdown",
   "metadata": {},
   "source": [
    "## Data visualization"
   ]
  },
  {
   "cell_type": "markdown",
   "metadata": {},
   "source": [
    "Image are stacked as a row vector 1 X 784 and therefore must be reshaped to the matrix of size 28 x 28 to display them properly."
   ]
  },
  {
   "cell_type": "code",
   "execution_count": 29,
   "metadata": {},
   "outputs": [
    {
     "name": "stderr",
     "output_type": "stream",
     "text": [
      "C:\\Users\\Deepak sirohiwal\\AppData\\Local\\Temp\\ipykernel_9204\\1473982052.py:2: DeprecationWarning: `np.int` is a deprecated alias for the builtin `int`. To silence this warning, use `int` by itself. Doing this will not modify any behavior and is safe. When replacing `np.int`, you may wish to use e.g. `np.int64` or `np.int32` to specify the precision. If you wish to review your current use, check the release note link for additional information.\n",
      "Deprecated in NumPy 1.20; for more details and guidance: https://numpy.org/devdocs/release/1.20.0-notes.html#deprecations\n",
      "  factor = np.int(np.sqrt(num_images))\n"
     ]
    },
    {
     "data": {
      "image/png": "[encoded data removed]",
      "text/plain": [
       "<Figure size 576x432 with 9 Axes>"
      ]
     },
     "metadata": {
      "needs_background": "light"
     },
     "output_type": "display_data"
    }
   ],
   "source": [
    "num_images= 9 # Choose a square number\n",
    "factor = np.int(np.sqrt(num_images))\n",
    "fig,ax=plt.subplots(nrows=factor,ncols=factor,figsize=(8,6))\n",
    "idx_offset=0\n",
    "for i in range(factor):\n",
    "    index=idx_offset+i*(factor)\n",
    "    for j in range(factor):\n",
    "        ax[i,j].imshow(X[index+j].reshape(28,28),cmap='gray')\n",
    "        ax[i,j].set_title('Label:{0}'.format(str(y[index+j])))\n",
    "        ax[i,j].set_axis_off()"
   ]
  },
  {
   "cell_type": "markdown",
   "metadata": {},
   "source": [
    "## Data spliting"
   ]
  },
  {
   "cell_type": "markdown",
   "metadata": {},
   "source": [
    "* Spliting data into testing and training data \n",
    "* 60,000 samples for training and 10,000 for testing\n",
    "* Since the sample in the data set are already shuffled, we need not be shuffle it again. Therefore using train_test_split() may be skipped"
   ]
  },
  {
   "cell_type": "code",
   "execution_count": 30,
   "metadata": {},
   "outputs": [],
   "source": [
    "x_train,x_test,y_train,y_test= X[:60000],X[60000:],y[:60000],y[60000:]"
   ]
  },
  {
   "cell_type": "markdown",
   "metadata": {},
   "source": [
    "Checking if the dataset are balanced"
   ]
  },
  {
   "cell_type": "code",
   "execution_count": 33,
   "metadata": {},
   "outputs": [
    {
     "data": {
      "image/png": "[encoded data removed]",
      "text/plain": [
       "<Figure size 720x288 with 1 Axes>"
      ]
     },
     "metadata": {
      "needs_background": "light"
     },
     "output_type": "display_data"
    }
   ],
   "source": [
    "plt.figure(figsize=(10,4))\n",
    "sns.histplot(data=np.int8(y_train),binwidth=0.45,bins=11)\n",
    "plt.xticks(ticks=[0,1,2,3,4,5,6,7,8,9],labels=[0,1,2,3,4,5,6,7,8,9])\n",
    "plt.xlabel('Class')\n",
    "plt.title('Distribution of samples')\n",
    "plt.show()"
   ]
  },
  {
   "cell_type": "markdown",
   "metadata": {},
   "source": [
    "## Binary Classification: 0-Detector"
   ]
  },
  {
   "cell_type": "markdown",
   "metadata": {},
   "source": [
    "### Modifying Labels\n",
    "* 0 will be changed to 1 and all other labels(1-9) will be changed to -1"
   ]
  },
  {
   "cell_type": "code",
   "execution_count": 40,
   "metadata": {},
   "outputs": [],
   "source": [
    "#initialize new variable name with all -1\n",
    "y_train_0=-1*np.ones((len(y_train)))\n",
    "y_test_0=-1*np.ones((len(y_test)))\n",
    "\n",
    "#find indices of digit 0 image\n",
    "indx_0= np.where(y_train=='0') #coz original data is of string type\n",
    "\n",
    "y_train_0[indx_0]=1\n",
    "\n",
    "indx_0=np.where(y_test=='0')\n",
    "y_test_0[indx_0]=1"
   ]
  },
  {
   "cell_type": "markdown",
   "metadata": {},
   "source": [
    "### Baseline models"
   ]
  },
  {
   "cell_type": "markdown",
   "metadata": {},
   "source": [
    "1. Count number of samples per class.\n",
    "2. The model always outputs the class which has highest number of samples.\n",
    "3. Then calculate the accuracy of the baseline model."
   ]
  },
  {
   "cell_type": "code",
   "execution_count": 45,
   "metadata": {},
   "outputs": [
    {
     "name": "stdout",
     "output_type": "stream",
     "text": [
      "5923 54077\n"
     ]
    }
   ],
   "source": [
    "num_pos=len(np.where(y_train_0==1)[0])\n",
    "num_neg= len(np.where(y_train_0==-1)[0])\n",
    "\n",
    "print(num_pos,num_neg)"
   ]
  },
  {
   "cell_type": "code",
   "execution_count": 46,
   "metadata": {},
   "outputs": [],
   "source": [
    "base_clf= DummyClassifier(strategy='most_frequent')\n"
   ]
  },
  {
   "cell_type": "code",
   "execution_count": 47,
   "metadata": {},
   "outputs": [
    {
     "name": "stdout",
     "output_type": "stream",
     "text": [
      "Training accuracy:0.90\n",
      "Training accuracy:0.90\n"
     ]
    }
   ],
   "source": [
    "base_clf.fit(x_train,y_train_0)\n",
    "print(\"Training accuracy:{0:.2f}\".format(base_clf.score(x_train,y_train_0)))\n",
    "print(\"Training accuracy:{0:.2f}\".format(base_clf.score(x_test,y_test_0)))\n"
   ]
  },
  {
   "cell_type": "markdown",
   "metadata": {},
   "source": [
    "The model would have predicted 54077 sample correctly just by outputing -1 for all the input samples. Therefore the accuracy will be 54077/60000=90.12%"
   ]
  },
  {
   "cell_type": "markdown",
   "metadata": {},
   "source": [
    "### Perceptron model"
   ]
  },
  {
   "cell_type": "code",
   "execution_count": 48,
   "metadata": {},
   "outputs": [],
   "source": [
    "bin_clf=Perceptron(max_iter=100,random_state=1729)"
   ]
  },
  {
   "cell_type": "markdown",
   "metadata": {},
   "source": [
    "Training and prediction"
   ]
  },
  {
   "cell_type": "code",
   "execution_count": 49,
   "metadata": {},
   "outputs": [
    {
     "name": "stdout",
     "output_type": "stream",
     "text": [
      "Dimention of weight w: (1, 784)\n",
      "Bias:[-108.]\n",
      "The loss function: <sklearn.linear_model._sgd_fast.Hinge object at 0x000001D6C8D067D0>\n"
     ]
    }
   ],
   "source": [
    "bin_clf.fit(x_train,y_train_0)\n",
    "print('Dimention of weight w: {0}'.format(bin_clf.coef_.shape))\n",
    "print('Bias:{0}'.format(bin_clf.intercept_))\n",
    "print('The loss function: {0}'.format(bin_clf.loss_function_))"
   ]
  },
  {
   "cell_type": "code",
   "execution_count": 51,
   "metadata": {},
   "outputs": [
    {
     "name": "stdout",
     "output_type": "stream",
     "text": [
      "Training accuracy: 0.99095\n",
      "Test accuracy 0.989\n"
     ]
    }
   ],
   "source": [
    "y_hat_train_0=bin_clf.predict(x_train)\n",
    "print('Training accuracy:',bin_clf.score(x_train,y_train_0))\n",
    "print('Test accuracy', bin_clf.score(x_test,y_test_0))"
   ]
  },
  {
   "cell_type": "markdown",
   "metadata": {},
   "source": [
    "### Displaying predictions"
   ]
  },
  {
   "cell_type": "code",
   "execution_count": 52,
   "metadata": {},
   "outputs": [
    {
     "name": "stderr",
     "output_type": "stream",
     "text": [
      "C:\\Users\\Deepak sirohiwal\\AppData\\Local\\Temp\\ipykernel_9204\\2193411666.py:3: DeprecationWarning: `np.int` is a deprecated alias for the builtin `int`. To silence this warning, use `int` by itself. Doing this will not modify any behavior and is safe. When replacing `np.int`, you may wish to use e.g. `np.int64` or `np.int32` to specify the precision. If you wish to review your current use, check the release note link for additional information.\n",
      "Deprecated in NumPy 1.20; for more details and guidance: https://numpy.org/devdocs/release/1.20.0-notes.html#deprecations\n",
      "  factor = np.int(np.sqrt(num_images))\n"
     ]
    },
    {
     "data": {
      "image/png": "[encoded data removed]",
      "text/plain": [
       "<Figure size 576x432 with 9 Axes>"
      ]
     },
     "metadata": {
      "needs_background": "light"
     },
     "output_type": "display_data"
    }
   ],
   "source": [
    "y_hat_test_0=bin_clf.predict(x_test)\n",
    "num_images= 9 # Choose a square number\n",
    "factor = np.int(np.sqrt(num_images))\n",
    "fig,ax=plt.subplots(nrows=factor,ncols=factor,figsize=(8,6))\n",
    "idx_offset=0\n",
    "for i in range(factor):\n",
    "    index=idx_offset+i*(factor)\n",
    "    for j in range(factor):\n",
    "        ax[i,j].imshow(x_test[index+j].reshape(28,28),cmap='gray')\n",
    "        ax[i,j].set_title('Label:{0}'.format(str(y_hat_test_0[index+j])))\n",
    "        ax[i,j].set_axis_off()"
   ]
  },
  {
   "cell_type": "markdown",
   "metadata": {},
   "source": [
    "Display image of positive class"
   ]
  },
  {
   "cell_type": "code",
   "execution_count": 53,
   "metadata": {},
   "outputs": [],
   "source": [
    "index_0=np.where(y_test_0==1)\n"
   ]
  },
  {
   "cell_type": "code",
   "execution_count": 54,
   "metadata": {},
   "outputs": [
    {
     "name": "stderr",
     "output_type": "stream",
     "text": [
      "C:\\Users\\Deepak sirohiwal\\AppData\\Local\\Temp\\ipykernel_9204\\3669091268.py:5: DeprecationWarning: `np.int` is a deprecated alias for the builtin `int`. To silence this warning, use `int` by itself. Doing this will not modify any behavior and is safe. When replacing `np.int`, you may wish to use e.g. `np.int64` or `np.int32` to specify the precision. If you wish to review your current use, check the release note link for additional information.\n",
      "Deprecated in NumPy 1.20; for more details and guidance: https://numpy.org/devdocs/release/1.20.0-notes.html#deprecations\n",
      "  factor = np.int(np.sqrt(num_images))\n"
     ]
    },
    {
     "data": {
      "image/png": "[encoded data removed]",
      "text/plain": [
       "<Figure size 576x432 with 9 Axes>"
      ]
     },
     "metadata": {
      "needs_background": "light"
     },
     "output_type": "display_data"
    }
   ],
   "source": [
    "zeroImgs=x_test[index_0[0]]\n",
    "zeroLabels=y_hat_test_0[index_0[0]]\n",
    "\n",
    "num_images= 9 # Choose a square number\n",
    "factor = np.int(np.sqrt(num_images))\n",
    "fig,ax=plt.subplots(nrows=factor,ncols=factor,figsize=(8,6))\n",
    "idx_offset=0\n",
    "for i in range(factor):\n",
    "    index=idx_offset+i*(factor)\n",
    "    for j in range(factor):\n",
    "        ax[i,j].imshow(zeroImgs[index+j].reshape(28,28),cmap='gray')\n",
    "        ax[i,j].set_title('Label:{0}'.format(str(zeroLabels[index+j])))\n",
    "        ax[i,j].set_axis_off()"
   ]
  },
  {
   "cell_type": "code",
   "execution_count": 15,
   "metadata": {},
   "outputs": [],
   "source": [
    "import numpy as np\n",
    "from sklearn.model_selection import RepeatedKFold\n",
    "X=np.array([[1,2],[3,4],[1,2],[3,4]])\n",
    "rkf=RepeatedKFold(n_splits=2,\n",
    "n_repeats=2,\n",
    "random_state=1)"
   ]
  },
  {
   "cell_type": "code",
   "execution_count": 16,
   "metadata": {},
   "outputs": [
    {
     "name": "stdout",
     "output_type": "stream",
     "text": [
      "[0 1] [2 3]\n",
      "[2 3] [0 1]\n",
      "[1 3] [0 2]\n",
      "[0 2] [1 3]\n"
     ]
    }
   ],
   "source": [
    "for train,test in rkf.split(X):\n",
    "    print(\"%s %s\"%(train,test))"
   ]
  },
  {
   "cell_type": "code",
   "execution_count": 17,
   "metadata": {},
   "outputs": [
    {
     "data": {
      "text/plain": [
       "array([[0.        , 2.30258509],\n",
       "       [2.07944154, 2.19722458]])"
      ]
     },
     "execution_count": 17,
     "metadata": {},
     "output_type": "execute_result"
    }
   ],
   "source": [
    "import numpy as np\n",
    "from sklearn.preprocessing import FunctionTransformer\n",
    "transformer = FunctionTransformer(np.log1p)\n",
    "X = np.array([[0, 9], [7, 8]])\n",
    "transformer.transform(X)"
   ]
  },
  {
   "cell_type": "code",
   "execution_count": 23,
   "metadata": {},
   "outputs": [
    {
     "name": "stdout",
     "output_type": "stream",
     "text": [
      "2.302585092994046\n",
      "2.302585092994046\n"
     ]
    }
   ],
   "source": [
    "print(np.log1p(9))\n",
    "print(np.log(10))"
   ]
  },
  {
   "cell_type": "code",
   "execution_count": null,
   "metadata": {},
   "outputs": [],
   "source": []
  }
 ],
 "metadata": {
  "interpreter": {
   "hash": "2c90b65b29ad7a427d808c182043d8d4808ccc3429de24b1eb6de7f8d63f161b"
  },
  "kernelspec": {
   "display_name": "Python 3.9.12 ('base')",
   "language": "python",
   "name": "python3"
  },
  "language_info": {
   "codemirror_mode": {
    "name": "ipython",
    "version": 3
   },
   "file_extension": ".py",
   "mimetype": "text/x-python",
   "name": "python",
   "nbconvert_exporter": "python",
   "pygments_lexer": "ipython3",
   "version": "3.9.12"
  },
  "orig_nbformat": 4
 },
 "nbformat": 4,
 "nbformat_minor": 2
}
