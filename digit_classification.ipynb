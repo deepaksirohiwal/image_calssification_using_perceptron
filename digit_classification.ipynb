{
 "cells": [
  {
   "cell_type": "markdown",
   "metadata": {},
   "source": [
    "# Image classification using Perceptron"
   ]
  },
  {
   "cell_type": "markdown",
   "metadata": {},
   "source": [
    "* Since a single perceptron could only be used for binary clssification,we consider only two classes in the first half. Eventually we will extend it to multi-class setting.\n",
    "* Suppose we want to recognize whether the given image is of digit zero or not. Then the problem could be cast as binary classification.\n",
    "* First: create a dataset contains the image of digit iamges written by humans."
   ]
  },
  {
   "cell_type": "code",
   "execution_count": 1,
   "metadata": {},
   "outputs": [],
   "source": [
    "import numpy as np\n",
    "import matplotlib.pyplot as plt\n",
    "import seaborn as sns\n",
    "import os\n",
    "import io\n",
    "import warnings\n",
    "\n",
    "#sklearn imports\n",
    "from sklearn.datasets import fetch_openml\n",
    "from sklearn.preprocessing import MinMaxScaler\n",
    "from sklearn.pipeline import Pipeline\n",
    "from sklearn.dummy import DummyClassifier\n",
    "from sklearn.linear_model import Perceptron\n",
    "from sklearn.metrics import hinge_loss, ConfusionMatrixDisplay, confusion_matrix, precision_recall_curve, precision_score,recall_score,classification_report, make_scorer\n",
    "from sklearn.model_selection import cross_validate, cross_val_predict, GridSearchCV\n",
    "from pprint import pprint\n"
   ]
  },
  {
   "cell_type": "markdown",
   "metadata": {},
   "source": [
    "## Data loading and Spliting"
   ]
  },
  {
   "cell_type": "code",
   "execution_count": 2,
   "metadata": {},
   "outputs": [],
   "source": [
    "X,y= fetch_openml('mnist_784', version=1, return_X_y=True)\n",
    "#it returns Data and label as pandas dataframe"
   ]
  },
  {
   "cell_type": "markdown",
   "metadata": {},
   "source": [
    "The data matrix X and the respective label vector y need to be converted to the numpy array by calling a to_numpy method."
   ]
  },
  {
   "cell_type": "code",
   "execution_count": 3,
   "metadata": {},
   "outputs": [],
   "source": [
    "X=X.to_numpy()\n",
    "y=y.to_numpy()"
   ]
  },
  {
   "cell_type": "code",
   "execution_count": 4,
   "metadata": {},
   "outputs": [
    {
     "name": "stdout",
     "output_type": "stream",
     "text": [
      "Number of samples:70000,type:float64\n",
      "Number of features:784\n",
      "Minimum:0.0, Maximum:255.0\n",
      "Number of classes:10,type:object\n",
      "Labels:['0' '1' '2' '3' '4' '5' '6' '7' '8' '9']\n"
     ]
    }
   ],
   "source": [
    "target_names=np.unique(y)\n",
    "print('Number of samples:{0},type:{1}'.format(X.shape[0],X.dtype))\n",
    "print('Number of features:{0}'.format(X.shape[1]))\n",
    "print('Minimum:{0}, Maximum:{1}'.format(np.min(X),np.max(X)))\n",
    "print('Number of classes:{0},type:{1}'.format(len(target_names),y.dtype))\n",
    "print('Labels:{0}'.format(target_names))"
   ]
  },
  {
   "cell_type": "markdown",
   "metadata": {},
   "source": [
    "* So, by looking at the outcome we can conclude that the each image comes with 784 features and there are such 70000 samples.\n",
    "* Each feature define a pixel in the grid\n",
    "* pixel range [0,255]\n",
    "* Each image comes in 28X28 grid which makes 784\n"
   ]
  },
  {
   "cell_type": "markdown",
   "metadata": {},
   "source": [
    "Standardizing the feature using MinMaxScaler preprocessing"
   ]
  },
  {
   "cell_type": "code",
   "execution_count": 5,
   "metadata": {},
   "outputs": [
    {
     "name": "stdout",
     "output_type": "stream",
     "text": [
      "Minimum:0.0,Maximum1.0\n"
     ]
    }
   ],
   "source": [
    "X=MinMaxScaler().fit_transform(X)\n",
    "print(\"Minimum:{0},Maximum{1}\".format(np.min(X),np.max(X)))"
   ]
  },
  {
   "cell_type": "markdown",
   "metadata": {},
   "source": [
    "## Data visualization"
   ]
  },
  {
   "cell_type": "markdown",
   "metadata": {},
   "source": [
    "Image are stacked as a row vector 1 X 784 and therefore must be reshaped to the matrix of size 28 x 28 to display them properly."
   ]
  },
  {
   "cell_type": "code",
   "execution_count": 6,
   "metadata": {},
   "outputs": [
    {
     "name": "stderr",
     "output_type": "stream",
     "text": [
      "C:\\Users\\Deepak sirohiwal\\AppData\\Local\\Temp\\ipykernel_23236\\1473982052.py:2: DeprecationWarning: `np.int` is a deprecated alias for the builtin `int`. To silence this warning, use `int` by itself. Doing this will not modify any behavior and is safe. When replacing `np.int`, you may wish to use e.g. `np.int64` or `np.int32` to specify the precision. If you wish to review your current use, check the release note link for additional information.\n",
      "Deprecated in NumPy 1.20; for more details and guidance: https://numpy.org/devdocs/release/1.20.0-notes.html#deprecations\n",
      "  factor = np.int(np.sqrt(num_images))\n"
     ]
    },
    {
     "data": {
      "image/png": "[encoded data removed]",
      "text/plain": [
       "<Figure size 576x432 with 9 Axes>"
      ]
     },
     "metadata": {
      "needs_background": "light"
     },
     "output_type": "display_data"
    }
   ],
   "source": [
    "num_images= 9 # Choose a square number\n",
    "factor = np.int(np.sqrt(num_images))\n",
    "fig,ax=plt.subplots(nrows=factor,ncols=factor,figsize=(8,6))\n",
    "idx_offset=0\n",
    "for i in range(factor):\n",
    "    index=idx_offset+i*(factor)\n",
    "    for j in range(factor):\n",
    "        ax[i,j].imshow(X[index+j].reshape(28,28),cmap='gray')\n",
    "        ax[i,j].set_title('Label:{0}'.format(str(y[index+j])))\n",
    "        ax[i,j].set_axis_off()"
   ]
  },
  {
   "cell_type": "markdown",
   "metadata": {},
   "source": [
    "## Data spliting"
   ]
  },
  {
   "cell_type": "markdown",
   "metadata": {},
   "source": [
    "* Spliting data into testing and training data \n",
    "* 60,000 samples for training and 10,000 for testing\n",
    "* Since the sample in the data set are already shuffled, we need not be shuffle it again. Therefore using train_test_split() may be skipped"
   ]
  },
  {
   "cell_type": "code",
   "execution_count": 7,
   "metadata": {},
   "outputs": [],
   "source": [
    "x_train,x_test,y_train,y_test= X[:60000],X[60000:],y[:60000],y[60000:]"
   ]
  },
  {
   "cell_type": "markdown",
   "metadata": {},
   "source": [
    "Checking if the dataset are balanced"
   ]
  },
  {
   "cell_type": "code",
   "execution_count": 8,
   "metadata": {},
   "outputs": [
    {
     "data": {
      "image/png": "[encoded data removed]",
      "text/plain": [
       "<Figure size 720x288 with 1 Axes>"
      ]
     },
     "metadata": {
      "needs_background": "light"
     },
     "output_type": "display_data"
    }
   ],
   "source": [
    "plt.figure(figsize=(10,4))\n",
    "sns.histplot(data=np.int8(y_train),binwidth=0.45,bins=11)\n",
    "plt.xticks(ticks=[0,1,2,3,4,5,6,7,8,9],labels=[0,1,2,3,4,5,6,7,8,9])\n",
    "plt.xlabel('Class')\n",
    "plt.title('Distribution of samples')\n",
    "plt.show()"
   ]
  },
  {
   "cell_type": "markdown",
   "metadata": {},
   "source": [
    "## Binary Classification: 0-Detector"
   ]
  },
  {
   "cell_type": "markdown",
   "metadata": {},
   "source": [
    "### Modifying Labels\n",
    "* 0 will be changed to 1 and all other labels(1-9) will be changed to -1"
   ]
  },
  {
   "cell_type": "code",
   "execution_count": 11,
   "metadata": {},
   "outputs": [
    {
     "data": {
      "text/plain": [
       "'\\nafter this all the labels with 0 changes to class 1 and rest to -1.\\n'"
      ]
     },
     "execution_count": 11,
     "metadata": {},
     "output_type": "execute_result"
    }
   ],
   "source": [
    "#initialize new variable name with all -1\n",
    "y_train_0=-1*np.ones((len(y_train)))\n",
    "y_test_0=-1*np.ones((len(y_test)))\n",
    "\n",
    "#find indices of digit 0 image\n",
    "indx_0= np.where(y_train=='0') #coz original data is of string type\n",
    "\n",
    "y_train_0[indx_0]=1 #change class to 1 where digit is 0 in training label\n",
    "\n",
    "indx_0=np.where(y_test=='0')\n",
    "y_test_0[indx_0]=1\n",
    "\n",
    "'''\n",
    "after this all the labels with 0 changes to class 1 and rest to -1.\n",
    "'''"
   ]
  },
  {
   "cell_type": "markdown",
   "metadata": {},
   "source": [
    "### Baseline models"
   ]
  },
  {
   "cell_type": "markdown",
   "metadata": {},
   "source": [
    "1. Count number of samples per class.\n",
    "2. The model always outputs the class which has highest number of samples.\n",
    "3. Then calculate the accuracy of the baseline model."
   ]
  },
  {
   "cell_type": "code",
   "execution_count": 12,
   "metadata": {},
   "outputs": [
    {
     "name": "stdout",
     "output_type": "stream",
     "text": [
      "5923 54077\n"
     ]
    }
   ],
   "source": [
    "num_pos=len(np.where(y_train_0==1)[0])\n",
    "num_neg= len(np.where(y_train_0==-1)[0])\n",
    "\n",
    "print(num_pos,num_neg)"
   ]
  },
  {
   "cell_type": "code",
   "execution_count": 13,
   "metadata": {},
   "outputs": [],
   "source": [
    "base_clf= DummyClassifier(strategy='most_frequent')\n"
   ]
  },
  {
   "cell_type": "code",
   "execution_count": 14,
   "metadata": {},
   "outputs": [
    {
     "name": "stdout",
     "output_type": "stream",
     "text": [
      "Training accuracy:0.90\n",
      "Training accuracy:0.90\n"
     ]
    }
   ],
   "source": [
    "base_clf.fit(x_train,y_train_0)\n",
    "print(\"Training accuracy:{0:.2f}\".format(base_clf.score(x_train,y_train_0)))\n",
    "print(\"Training accuracy:{0:.2f}\".format(base_clf.score(x_test,y_test_0)))\n"
   ]
  },
  {
   "cell_type": "markdown",
   "metadata": {},
   "source": [
    "The model would have predicted 54077 sample correctly just by outputing -1 for all the input samples. Therefore the accuracy will be 54077/60000=90.12%"
   ]
  },
  {
   "cell_type": "markdown",
   "metadata": {},
   "source": [
    "### Perceptron model"
   ]
  },
  {
   "cell_type": "code",
   "execution_count": 15,
   "metadata": {},
   "outputs": [],
   "source": [
    "bin_clf=Perceptron(max_iter=100,random_state=1729)"
   ]
  },
  {
   "cell_type": "markdown",
   "metadata": {},
   "source": [
    "Training and prediction"
   ]
  },
  {
   "cell_type": "code",
   "execution_count": 16,
   "metadata": {},
   "outputs": [
    {
     "name": "stdout",
     "output_type": "stream",
     "text": [
      "Dimention of weight w: (1, 784)\n",
      "Bias:[-108.]\n",
      "The loss function: <sklearn.linear_model._sgd_fast.Hinge object at 0x000002385CEDF710>\n"
     ]
    }
   ],
   "source": [
    "bin_clf.fit(x_train,y_train_0)\n",
    "print('Dimention of weight w: {0}'.format(bin_clf.coef_.shape))\n",
    "print('Bias:{0}'.format(bin_clf.intercept_))\n",
    "print('The loss function: {0}'.format(bin_clf.loss_function_))"
   ]
  },
  {
   "cell_type": "code",
   "execution_count": 17,
   "metadata": {},
   "outputs": [
    {
     "name": "stdout",
     "output_type": "stream",
     "text": [
      "Training accuracy: 0.99095\n",
      "Test accuracy 0.989\n"
     ]
    }
   ],
   "source": [
    "y_hat_train_0=bin_clf.predict(x_train)\n",
    "print('Training accuracy:',bin_clf.score(x_train,y_train_0))\n",
    "print('Test accuracy', bin_clf.score(x_test,y_test_0))"
   ]
  },
  {
   "cell_type": "markdown",
   "metadata": {},
   "source": [
    "### Displaying predictions"
   ]
  },
  {
   "cell_type": "code",
   "execution_count": 18,
   "metadata": {},
   "outputs": [
    {
     "name": "stderr",
     "output_type": "stream",
     "text": [
      "C:\\Users\\Deepak sirohiwal\\AppData\\Local\\Temp\\ipykernel_23236\\2193411666.py:3: DeprecationWarning: `np.int` is a deprecated alias for the builtin `int`. To silence this warning, use `int` by itself. Doing this will not modify any behavior and is safe. When replacing `np.int`, you may wish to use e.g. `np.int64` or `np.int32` to specify the precision. If you wish to review your current use, check the release note link for additional information.\n",
      "Deprecated in NumPy 1.20; for more details and guidance: https://numpy.org/devdocs/release/1.20.0-notes.html#deprecations\n",
      "  factor = np.int(np.sqrt(num_images))\n"
     ]
    },
    {
     "data": {
      "image/png": "[encoded data removed]",
      "text/plain": [
       "<Figure size 576x432 with 9 Axes>"
      ]
     },
     "metadata": {
      "needs_background": "light"
     },
     "output_type": "display_data"
    }
   ],
   "source": [
    "y_hat_test_0=bin_clf.predict(x_test)\n",
    "num_images= 9 # Choose a square number\n",
    "factor = np.int(np.sqrt(num_images))\n",
    "fig,ax=plt.subplots(nrows=factor,ncols=factor,figsize=(8,6))\n",
    "idx_offset=0\n",
    "for i in range(factor):\n",
    "    index=idx_offset+i*(factor)\n",
    "    for j in range(factor):\n",
    "        ax[i,j].imshow(x_test[index+j].reshape(28,28),cmap='gray')\n",
    "        ax[i,j].set_title('Label:{0}'.format(str(y_hat_test_0[index+j])))\n",
    "        ax[i,j].set_axis_off()"
   ]
  },
  {
   "cell_type": "markdown",
   "metadata": {},
   "source": [
    "Display image of positive class"
   ]
  },
  {
   "cell_type": "code",
   "execution_count": 21,
   "metadata": {},
   "outputs": [],
   "source": [
    "index_0=np.where(y_test_0==1) #digit zero\n"
   ]
  },
  {
   "cell_type": "code",
   "execution_count": 20,
   "metadata": {},
   "outputs": [
    {
     "name": "stderr",
     "output_type": "stream",
     "text": [
      "C:\\Users\\Deepak sirohiwal\\AppData\\Local\\Temp\\ipykernel_23236\\3669091268.py:5: DeprecationWarning: `np.int` is a deprecated alias for the builtin `int`. To silence this warning, use `int` by itself. Doing this will not modify any behavior and is safe. When replacing `np.int`, you may wish to use e.g. `np.int64` or `np.int32` to specify the precision. If you wish to review your current use, check the release note link for additional information.\n",
      "Deprecated in NumPy 1.20; for more details and guidance: https://numpy.org/devdocs/release/1.20.0-notes.html#deprecations\n",
      "  factor = np.int(np.sqrt(num_images))\n"
     ]
    },
    {
     "data": {
      "image/png": "[encoded data removed]",
      "text/plain": [
       "<Figure size 576x432 with 9 Axes>"
      ]
     },
     "metadata": {
      "needs_background": "light"
     },
     "output_type": "display_data"
    }
   ],
   "source": [
    "zeroImgs=x_test[index_0[0]]\n",
    "zeroLabels=y_hat_test_0[index_0[0]]\n",
    "\n",
    "num_images= 9 # Choose a square number\n",
    "factor = np.int(np.sqrt(num_images))\n",
    "fig,ax=plt.subplots(nrows=factor,ncols=factor,figsize=(8,6))\n",
    "idx_offset=0\n",
    "for i in range(factor):\n",
    "    index=idx_offset+i*(factor)\n",
    "    for j in range(factor):\n",
    "        ax[i,j].imshow(zeroImgs[index+j].reshape(28,28),cmap='gray')\n",
    "        ax[i,j].set_title('Label:{0}'.format(str(zeroLabels[index+j])))\n",
    "        ax[i,j].set_axis_off()"
   ]
  },
  {
   "cell_type": "markdown",
   "metadata": {},
   "source": [
    "It seems that there are a significant number of images that are correctly classified. Lets see how many?"
   ]
  },
  {
   "cell_type": "code",
   "execution_count": 26,
   "metadata": {},
   "outputs": [
    {
     "name": "stdout",
     "output_type": "stream",
     "text": [
      "0.9193877551020408\n"
     ]
    }
   ],
   "source": [
    "num_misclassified= np.count_nonzero(zeroLabels==-1)\n",
    "num_correctpred=len(zeroLabels)-num_misclassified #zerolabels are the predicted labels for the digit 0 it may contains 1 or -1\n",
    "accuracy= num_correctpred/len(zeroLabels)\n",
    "print(accuracy)"
   ]
  },
  {
   "cell_type": "markdown",
   "metadata": {},
   "source": [
    "### Better Evaluation metrics"
   ]
  },
  {
   "cell_type": "markdown",
   "metadata": {},
   "source": [
    "* Accuracy alone to measure performance of the model is not suitable(esspecially for the imbalanced datasets)."
   ]
  },
  {
   "cell_type": "markdown",
   "metadata": {},
   "source": [
    "#### Confusion Matrix"
   ]
  },
  {
   "cell_type": "code",
   "execution_count": 27,
   "metadata": {},
   "outputs": [
    {
     "data": {
      "image/png": "[encoded data removed]",
      "text/plain": [
       "<Figure size 432x288 with 2 Axes>"
      ]
     },
     "metadata": {
      "needs_background": "light"
     },
     "output_type": "display_data"
    }
   ],
   "source": [
    "y_hat_train_0= bin_clf.predict(x_train) #perceptron\n",
    "cm_display= ConfusionMatrixDisplay.from_predictions(y_train_0,y_hat_train_0,values_format='.5g')\n",
    "plt.show()"
   ]
  },
  {
   "cell_type": "markdown",
   "metadata": {},
   "source": [
    "False Positive=122\n",
    "\n",
    "False Negative=421"
   ]
  },
  {
   "cell_type": "markdown",
   "metadata": {},
   "source": [
    "#### Precision and Recall\n"
   ]
  },
  {
   "cell_type": "code",
   "execution_count": 34,
   "metadata": {},
   "outputs": [],
   "source": [
    "clf_report= classification_report(y_train_0,y_hat_train_0,output_dict=True)"
   ]
  },
  {
   "cell_type": "code",
   "execution_count": 43,
   "metadata": {},
   "outputs": [
    {
     "name": "stdout",
     "output_type": "stream",
     "text": [
      "Precision:  0.9783072546230441\n",
      "Recall:  0.9289211548201924\n",
      "Accuracy : 0.99095\n"
     ]
    }
   ],
   "source": [
    "print('Precision: ',clf_report['1.0']['precision'])\n",
    "print('Recall: ', clf_report['1.0']['recall'])\n",
    "print('Accuracy :', clf_report['accuracy'])"
   ]
  },
  {
   "cell_type": "markdown",
   "metadata": {},
   "source": [
    "* We have precision of 0.98, still want to make it better.\n",
    "* checking hyper-parameters"
   ]
  },
  {
   "cell_type": "markdown",
   "metadata": {},
   "source": [
    "### Cross Validation"
   ]
  },
  {
   "cell_type": "markdown",
   "metadata": {},
   "source": [
    "* Perceptron does not have many hyperparameter to tweeks other than learning rate.\n",
    "* For the moment, we set the learning rate to default value. we use GridSearchCV to finf the better value for the learning rate. default learning rate=0.0001"
   ]
  },
  {
   "cell_type": "code",
   "execution_count": 44,
   "metadata": {},
   "outputs": [
    {
     "name": "stdout",
     "output_type": "stream",
     "text": [
      "{'estimator': [Perceptron(max_iter=100, random_state=1729),\n",
      "               Perceptron(max_iter=100, random_state=1729),\n",
      "               Perceptron(max_iter=100, random_state=1729),\n",
      "               Perceptron(max_iter=100, random_state=1729),\n",
      "               Perceptron(max_iter=100, random_state=1729)],\n",
      " 'fit_time': array([0.86015558, 1.76939726, 1.13346481, 1.07427764, 1.21417785]),\n",
      " 'score_time': array([0.02989364, 0.02787685, 0.03890181, 0.03294134, 0.03124285]),\n",
      " 'test_f1': array([0.95238095, 0.91666667, 0.94915254, 0.94117647, 0.95091763]),\n",
      " 'test_precision': array([0.95890411, 0.98828125, 0.95319149, 0.95090439, 0.96200345]),\n",
      " 'test_recall': array([0.94594595, 0.85472973, 0.94514768, 0.93164557, 0.94008439])}\n"
     ]
    }
   ],
   "source": [
    "scores= cross_validate(bin_clf,x_train,y_train_0, cv=5,\n",
    "scoring=['precision','recall','f1'],\n",
    "return_estimator=True)\n",
    "\n",
    "pprint(scores)"
   ]
  },
  {
   "cell_type": "markdown",
   "metadata": {},
   "source": [
    "The cross validation score for all 5 folds are slightly different.\n",
    "* Compute the average and standard deviation of scores for all three metrics on (k=5) folds to measure the generalization."
   ]
  },
  {
   "cell_type": "code",
   "execution_count": 46,
   "metadata": {},
   "outputs": [
    {
     "name": "stdout",
     "output_type": "stream",
     "text": [
      "f1, avg:0.94, std:0.013\n",
      "f1, avg:0.96, std:0.01\n",
      "f1, avg:0.92, std:0.03\n"
     ]
    }
   ],
   "source": [
    "print('f1, avg:{0:.2f}, std:{1:.3f}'.format(scores['test_f1'].mean(),scores['test_f1'].std()))\n",
    "print('f1, avg:{0:.2f}, std:{1:.2f}'.format(scores['test_precision'].mean(),scores['test_precision'].std()))\n",
    "print('f1, avg:{0:.2f}, std:{1:.2f}'.format(scores['test_recall'].mean(),scores['test_recall'].std()))\n"
   ]
  },
  {
   "cell_type": "code",
   "execution_count": 54,
   "metadata": {},
   "outputs": [
    {
     "data": {
      "image/png": "[encoded data removed]",
      "text/plain": [
       "<Figure size 432x288 with 2 Axes>"
      ]
     },
     "metadata": {
      "needs_background": "light"
     },
     "output_type": "display_data"
    }
   ],
   "source": [
    "bin_clf=scores['estimator'][0] #best estimator , got the best F1 score of all the folds\n",
    "y_hat_test_0= bin_clf.predict(x_test)\n",
    "sm_display=ConfusionMatrixDisplay.from_predictions(y_test_0,y_hat_test_0,values_format='.5g')"
   ]
  },
  {
   "cell_type": "code",
   "execution_count": 53,
   "metadata": {},
   "outputs": [
    {
     "name": "stdout",
     "output_type": "stream",
     "text": [
      "Precision 0.95\n",
      "Recall 0.95\n"
     ]
    }
   ],
   "source": [
    "print('Precision %.2f'%precision_score(y_test_0,y_hat_test_0))\n",
    "print('Recall %.2f'%recall_score(y_test_0,y_hat_test_0))"
   ]
  },
  {
   "cell_type": "markdown",
   "metadata": {},
   "source": [
    "Prediction for each example"
   ]
  },
  {
   "cell_type": "code",
   "execution_count": 55,
   "metadata": {},
   "outputs": [],
   "source": [
    "y_hat_train_0= cross_val_predict(bin_clf,x_train,y_train_0, cv=5)\n"
   ]
  },
  {
   "cell_type": "code",
   "execution_count": 56,
   "metadata": {},
   "outputs": [
    {
     "data": {
      "image/png": "[encoded data removed]",
      "text/plain": [
       "<Figure size 432x288 with 2 Axes>"
      ]
     },
     "metadata": {
      "needs_background": "light"
     },
     "output_type": "display_data"
    }
   ],
   "source": [
    "cm_display=ConfusionMatrixDisplay.from_predictions(y_train_0,y_hat_train_0, values_format='.5g')\n",
    "plt.show()"
   ]
  },
  {
   "cell_type": "code",
   "execution_count": 57,
   "metadata": {},
   "outputs": [],
   "source": [
    "clf_report= classification_report(y_train_0,y_hat_train_0,output_dict=True)"
   ]
  },
  {
   "cell_type": "code",
   "execution_count": 58,
   "metadata": {},
   "outputs": [
    {
     "name": "stdout",
     "output_type": "stream",
     "text": [
      "Precision:  0.9620119591980303\n",
      "Recall:  0.9235184872530812\n",
      "Accuracy : 0.98885\n"
     ]
    }
   ],
   "source": [
    "print('Precision: ',clf_report['1.0']['precision'])\n",
    "print('Recall: ', clf_report['1.0']['recall'])\n",
    "print('Accuracy :', clf_report['accuracy'])"
   ]
  },
  {
   "cell_type": "code",
   "execution_count": 60,
   "metadata": {},
   "outputs": [
    {
     "name": "stdout",
     "output_type": "stream",
     "text": [
      "{'-1.0': {'f1-score': 0.9938279008404757,\n",
      "          'precision': 0.9916596089406047,\n",
      "          'recall': 0.9960056955822253,\n",
      "          'support': 54077},\n",
      " '1.0': {'f1-score': 0.9423722973555001,\n",
      "         'precision': 0.9620119591980303,\n",
      "         'recall': 0.9235184872530812,\n",
      "         'support': 5923},\n",
      " 'accuracy': 0.98885,\n",
      " 'macro avg': {'f1-score': 0.9681000990979879,\n",
      "               'precision': 0.9768357840693175,\n",
      "               'recall': 0.9597620914176532,\n",
      "               'support': 60000},\n",
      " 'weighted avg': {'f1-score': 0.9887483751831171,\n",
      "                  'precision': 0.9887328917835169,\n",
      "                  'recall': 0.98885,\n",
      "                  'support': 60000}}\n"
     ]
    }
   ],
   "source": [
    "pprint(clf_report)"
   ]
  },
  {
   "cell_type": "markdown",
   "metadata": {},
   "source": [
    "## Precision/Recall Tradeoff\n"
   ]
  },
  {
   "cell_type": "markdown",
   "metadata": {},
   "source": [
    "* Often we have to make a tradeoff between recall and precision\n",
    "* and it is depend on the problem."
   ]
  },
  {
   "cell_type": "code",
   "execution_count": 63,
   "metadata": {},
   "outputs": [
    {
     "data": {
      "image/png": "[encoded data removed]",
      "text/plain": [
       "<Figure size 432x288 with 1 Axes>"
      ]
     },
     "metadata": {
      "needs_background": "light"
     },
     "output_type": "display_data"
    }
   ],
   "source": [
    "bin_clf=Perceptron(random_state=1729)\n",
    "bin_clf.fit(x_train,y_train_0)\n",
    "y_scores= bin_clf.decision_function(x_train)\n",
    "sns.histplot(np.sort(y_scores))\n",
    "plt.show()"
   ]
  },
  {
   "cell_type": "markdown",
   "metadata": {},
   "source": [
    "* Suppose threshold takes the value of -600, then all samples having score greater than -600 is set to 1(Positive label) and less than it is set to -1.\n",
    "* Therefore the number of False positive will be increase. This will in turn reduce the  precision score to a greater extent.\n",
    "* If threshold takes the value of, say 400. Then the number of false negative will be increased and hence recall will  reduce to greater extend."
   ]
  },
  {
   "cell_type": "markdown",
   "metadata": {},
   "source": [
    "Now we will vary the threshold and calculte precision and recall."
   ]
  },
  {
   "cell_type": "code",
   "execution_count": 64,
   "metadata": {},
   "outputs": [],
   "source": [
    "precisions, recalls, thresholds= precision_recall_curve(y_train_0,y_scores, pos_label=1)"
   ]
  },
  {
   "cell_type": "code",
   "execution_count": 65,
   "metadata": {},
   "outputs": [
    {
     "data": {
      "image/png": "[encoded data removed]",
      "text/plain": [
       "<Figure size 720x288 with 1 Axes>"
      ]
     },
     "metadata": {
      "needs_background": "light"
     },
     "output_type": "display_data"
    }
   ],
   "source": [
    "plt.figure(figsize=(10,4))\n",
    "plt.plot(thresholds,precisions[:-1],\"b--\",label=\"Precison\")\n",
    "plt.plot(thresholds, recalls[:-1],\"g-\",label='Recall')\n",
    "plt.xlabel('Threshold')\n",
    "plt.grid(True)\n",
    "plt.legend(loc='upper right')\n",
    "plt.show()"
   ]
  },
  {
   "cell_type": "code",
   "execution_count": 75,
   "metadata": {},
   "outputs": [
    {
     "name": "stdout",
     "output_type": "stream",
     "text": [
      "precision for zero threshold: 0.9783072546230441\n"
     ]
    }
   ],
   "source": [
    "idx_th=np.where(np.logical_and(thresholds>0, thresholds<1))\n",
    "print('precision for zero threshold:', precisions[idx_th[0][0]])"
   ]
  },
  {
   "cell_type": "markdown",
   "metadata": {},
   "source": [
    "### The ROC curve"
   ]
  },
  {
   "cell_type": "code",
   "execution_count": 76,
   "metadata": {},
   "outputs": [],
   "source": [
    "from sklearn.metrics import roc_curve\n"
   ]
  },
  {
   "cell_type": "code",
   "execution_count": 77,
   "metadata": {},
   "outputs": [
    {
     "data": {
      "image/png": "[encoded data removed]",
      "text/plain": [
       "<Figure size 720x288 with 1 Axes>"
      ]
     },
     "metadata": {
      "needs_background": "light"
     },
     "output_type": "display_data"
    }
   ],
   "source": [
    "fpr,tpr, thresholds=roc_curve(y_train_0,y_scores)\n",
    "plt.figure(figsize=(10,4))\n",
    "plt.plot(fpr,tpr,linewidth=2,label='Perceptron')\n",
    "plt.plot([0,1],[0,1],'k--',label='baseEstimator')\n",
    "plt.xlabel('False Positive Rate')\n",
    "plt.ylabel('True Positive Rate')\n",
    "plt.grid(True)\n",
    "plt.legend()\n",
    "plt.show()"
   ]
  },
  {
   "cell_type": "markdown",
   "metadata": {},
   "source": [
    "## Multiclass Classifier (One Vs All)"
   ]
  },
  {
   "cell_type": "markdown",
   "metadata": {},
   "source": [
    "* To address multiclass problem we will use LabelBinarizer to fit each binary classifier"
   ]
  },
  {
   "cell_type": "code",
   "execution_count": 78,
   "metadata": {},
   "outputs": [],
   "source": [
    "from sklearn.linear_model import Perceptron\n",
    "from sklearn.preprocessing import LabelBinarizer"
   ]
  },
  {
   "cell_type": "code",
   "execution_count": 79,
   "metadata": {},
   "outputs": [],
   "source": [
    "clf=Perceptron(random_state=1729)"
   ]
  },
  {
   "cell_type": "code",
   "execution_count": 80,
   "metadata": {},
   "outputs": [
    {
     "name": "stdout",
     "output_type": "stream",
     "text": [
      "5:[0 0 0 0 0 1 0 0 0 0]\n",
      "0:[1 0 0 0 0 0 0 0 0 0]\n",
      "4:[0 0 0 0 1 0 0 0 0 0]\n",
      "1:[0 1 0 0 0 0 0 0 0 0]\n",
      "9:[0 0 0 0 0 0 0 0 0 1]\n",
      "2:[0 0 1 0 0 0 0 0 0 0]\n",
      "1:[0 1 0 0 0 0 0 0 0 0]\n",
      "3:[0 0 0 1 0 0 0 0 0 0]\n",
      "1:[0 1 0 0 0 0 0 0 0 0]\n",
      "4:[0 0 0 0 1 0 0 0 0 0]\n"
     ]
    }
   ],
   "source": [
    "#Let's use label binarizer just to see the encoding\n",
    "y_train_ovr=LabelBinarizer().fit_transform(y_train)\n",
    "for i in range(10):\n",
    "    print('{0}:{1}'.format(y_train[i],y_train_ovr[i]))"
   ]
  },
  {
   "cell_type": "code",
   "execution_count": 81,
   "metadata": {},
   "outputs": [
    {
     "data": {
      "text/plain": [
       "Perceptron(random_state=1729)"
      ]
     },
     "execution_count": 81,
     "metadata": {},
     "output_type": "execute_result"
    }
   ],
   "source": [
    "clf.fit(x_train,y_train)"
   ]
  },
  {
   "cell_type": "markdown",
   "metadata": {},
   "source": [
    "* The API internally created 10 binary classifiers, converted labels to binary sparse matrix and trained them with binarized labels.\n",
    "* During the inference time, the input will be passed through all these 10 classifiers and the highest score among the ouput from the classifiers will be considered as the predicted class.\n"
   ]
  },
  {
   "cell_type": "code",
   "execution_count": 82,
   "metadata": {},
   "outputs": [
    {
     "name": "stdout",
     "output_type": "stream",
     "text": [
      "Shape of weight matrix:(10, 784) and bias vector:(10,)\n"
     ]
    }
   ],
   "source": [
    "print('Shape of weight matrix:{0} and bias vector:{1}'.format(clf.coef_.shape, clf.intercept_.shape))"
   ]
  },
  {
   "cell_type": "markdown",
   "metadata": {},
   "source": [
    "* Weight matrix is 10 X 784, where each row is a single binary classifier.\n",
    "* The class of a perceptron that outputs the maximum score for the input is considered as the predicted class."
   ]
  },
  {
   "cell_type": "markdown",
   "metadata": {},
   "source": [
    "confidence score for the sample."
   ]
  },
  {
   "cell_type": "code",
   "execution_count": 83,
   "metadata": {},
   "outputs": [
    {
     "name": "stdout",
     "output_type": "stream",
     "text": [
      "[[-631.88492118  154.366213    -65.23234141  -90.95338716 -189.29568627\n",
      "  -137.14385236  -99.64604383 -159.09859285 -136.86391388 -199.26120723]]\n",
      "The predicted class:  1\n"
     ]
    }
   ],
   "source": [
    "scores=clf.decision_function(x_train[6].reshape(1,-1))\n",
    "print(scores)\n",
    "print('The predicted class: ',np.argmax(scores))"
   ]
  },
  {
   "cell_type": "code",
   "execution_count": 84,
   "metadata": {},
   "outputs": [
    {
     "name": "stdout",
     "output_type": "stream",
     "text": [
      "Predicted output:\n",
      "\n",
      "['5']\n"
     ]
    }
   ],
   "source": [
    "print('Predicted output:\\n')\n",
    "print(clf.predict(x_train[0].reshape(1,-1)))"
   ]
  },
  {
   "cell_type": "code",
   "execution_count": 85,
   "metadata": {},
   "outputs": [],
   "source": [
    "y_hat=clf.predict(x_train)"
   ]
  },
  {
   "cell_type": "code",
   "execution_count": 87,
   "metadata": {},
   "outputs": [
    {
     "name": "stdout",
     "output_type": "stream",
     "text": [
      "              precision    recall  f1-score   support\n",
      "\n",
      "           0       0.98      0.95      0.97      5923\n",
      "           1       0.94      0.98      0.96      6742\n",
      "           2       0.89      0.90      0.90      5958\n",
      "           3       0.86      0.87      0.87      6131\n",
      "           4       0.89      0.94      0.91      5842\n",
      "           5       0.81      0.88      0.85      5421\n",
      "           6       0.92      0.97      0.94      5918\n",
      "           7       0.91      0.94      0.92      6265\n",
      "           8       0.92      0.77      0.84      5851\n",
      "           9       0.92      0.82      0.87      5949\n",
      "\n",
      "    accuracy                           0.90     60000\n",
      "   macro avg       0.90      0.90      0.90     60000\n",
      "weighted avg       0.91      0.90      0.90     60000\n",
      "\n"
     ]
    }
   ],
   "source": [
    "print(classification_report(y_train,y_hat))"
   ]
  },
  {
   "cell_type": "markdown",
   "metadata": {},
   "source": [
    "Confusion matrix and relate it with report above."
   ]
  },
  {
   "cell_type": "code",
   "execution_count": 88,
   "metadata": {},
   "outputs": [
    {
     "data": {
      "image/png": "[encoded data removed]",
      "text/plain": [
       "<Figure size 432x288 with 2 Axes>"
      ]
     },
     "metadata": {
      "needs_background": "light"
     },
     "output_type": "display_data"
    }
   ],
   "source": [
    "cm_display=ConfusionMatrixDisplay.from_predictions(y_train,y_hat,values_format='.5g')"
   ]
  },
  {
   "cell_type": "markdown",
   "metadata": {},
   "source": [
    "Conclusion:\n",
    "* digit 2 is often confused with 3 and vice versa. \n",
    "* digit 5 with 6\n",
    "* 7 with 9 and 4 with 9 \n"
   ]
  },
  {
   "cell_type": "markdown",
   "metadata": {},
   "source": [
    "## Iteration vs Loss Curve"
   ]
  },
  {
   "cell_type": "markdown",
   "metadata": {},
   "source": [
    " Plotting Iteration Vs Loss curve with the Partial_fit method."
   ]
  },
  {
   "cell_type": "code",
   "execution_count": 90,
   "metadata": {},
   "outputs": [],
   "source": [
    "iterations=100\n",
    "bin_clf1=Perceptron(max_iter=1000, random_state=2094)\n",
    "Loss_clf1=[]\n",
    "for i in range(iterations):\n",
    "    bin_clf1.partial_fit(x_train,y_train_0,classes=np.array([-1,1]))\n",
    "    y_hat_o=bin_clf1.decision_function(x_train)\n",
    "    Loss_clf1.append(hinge_loss(y_train_0,y_hat_o))\n"
   ]
  },
  {
   "cell_type": "code",
   "execution_count": 91,
   "metadata": {},
   "outputs": [
    {
     "data": {
      "image/png": "[encoded data removed]",
      "text/plain": [
       "<Figure size 432x288 with 1 Axes>"
      ]
     },
     "metadata": {
      "needs_background": "light"
     },
     "output_type": "display_data"
    }
   ],
   "source": [
    "plt.figure()\n",
    "plt.plot(np.arange(iterations),Loss_clf1)\n",
    "plt.xlabel('Iteration')\n",
    "plt.ylabel('Training Loss')\n",
    "plt.show()"
   ]
  },
  {
   "cell_type": "markdown",
   "metadata": {},
   "source": [
    "### GridSearchCV"
   ]
  },
  {
   "cell_type": "markdown",
   "metadata": {},
   "source": [
    "* So far we didn't do any hyperparameter tuning. We accepted the default value for learning rate of the Perceptron class.\n",
    "* Now, let us search for a better learning rate using GridSearchCV.\n",
    "* No matter what the learning rate is, the loss will never converge to zero as the clases are not linearly separable."
   ]
  },
  {
   "cell_type": "code",
   "execution_count": 92,
   "metadata": {},
   "outputs": [
    {
     "data": {
      "text/plain": [
       "GridSearchCV(cv=5, estimator=Perceptron(),\n",
       "             param_grid={'eta0': [0.5, 0.25, 0.125, 0.0625, 0.03125]},\n",
       "             scoring=make_scorer(hinge_loss, greater_is_better=False))"
      ]
     },
     "execution_count": 92,
     "metadata": {},
     "output_type": "execute_result"
    }
   ],
   "source": [
    "scoring=make_scorer(hinge_loss,greater_is_better=False)\n",
    "lr_grid=[1/2**n for n in range(1,6)]\n",
    "bin_clf_gscv=GridSearchCV(Perceptron(),param_grid={\"eta0\":lr_grid},scoring=scoring,cv=5)\n",
    "bin_clf_gscv.fit(x_train,y_train_0)"
   ]
  },
  {
   "cell_type": "code",
   "execution_count": 94,
   "metadata": {},
   "outputs": [
    {
     "name": "stdout",
     "output_type": "stream",
     "text": [
      "{'mean_fit_time': array([1.08505921, 1.00446744, 1.02347956, 0.81133089, 0.78738608]),\n",
      " 'mean_score_time': array([0.02066355, 0.01476202, 0.01592026, 0.01498685, 0.02500663]),\n",
      " 'mean_test_score': array([-0.0285    , -0.0285    , -0.02643333, -0.03066667, -0.0421    ]),\n",
      " 'param_eta0': masked_array(data=[0.5, 0.25, 0.125, 0.0625, 0.03125],\n",
      "             mask=[False, False, False, False, False],\n",
      "       fill_value='?',\n",
      "            dtype=object),\n",
      " 'params': [{'eta0': 0.5},\n",
      "            {'eta0': 0.25},\n",
      "            {'eta0': 0.125},\n",
      "            {'eta0': 0.0625},\n",
      "            {'eta0': 0.03125}],\n",
      " 'rank_test_score': array([2, 2, 1, 4, 5]),\n",
      " 'split0_test_score': array([-0.02166667, -0.02166667, -0.02166667, -0.02166667, -0.02166667]),\n",
      " 'split1_test_score': array([-0.0395, -0.0395, -0.0395, -0.0395, -0.0395]),\n",
      " 'split2_test_score': array([-0.02816667, -0.02816667, -0.02816667, -0.02816667, -0.02816667]),\n",
      " 'split3_test_score': array([-0.023     , -0.023     , -0.023     , -0.04416667, -0.04416667]),\n",
      " 'split4_test_score': array([-0.03016667, -0.03016667, -0.01983333, -0.01983333, -0.077     ]),\n",
      " 'std_fit_time': array([0.19311253, 0.24420862, 0.25558614, 0.1158072 , 0.08124505]),\n",
      " 'std_score_time': array([0.01177294, 0.00706246, 0.0016925 , 0.01081036, 0.00647931]),\n",
      " 'std_test_score': array([0.00633772, 0.00633772, 0.00709663, 0.0096425 , 0.01918697])}\n"
     ]
    }
   ],
   "source": [
    "pprint(bin_clf_gscv.cv_results_)"
   ]
  },
  {
   "cell_type": "markdown",
   "metadata": {},
   "source": [
    "we can conclude that the best learning rate is 0.125"
   ]
  },
  {
   "cell_type": "code",
   "execution_count": 95,
   "metadata": {},
   "outputs": [],
   "source": [
    "iterations=100\n",
    "Loss=[]\n",
    "best_bin_clf= Perceptron(max_iter=1000,random_state=2094, eta0=0.125)\n",
    "for i in range(iterations):\n",
    "    best_bin_clf.partial_fit(x_train,y_train_0, classes=np.array([1,-1]))\n",
    "    y_hat_0=best_bin_clf.decision_function(x_train)\n",
    "    Loss.append(hinge_loss(y_train_0,y_hat_0))\n"
   ]
  },
  {
   "cell_type": "code",
   "execution_count": 96,
   "metadata": {},
   "outputs": [
    {
     "data": {
      "image/png": "[encoded data removed]",
      "text/plain": [
       "<Figure size 432x288 with 1 Axes>"
      ]
     },
     "metadata": {
      "needs_background": "light"
     },
     "output_type": "display_data"
    }
   ],
   "source": [
    "plt.figure()\n",
    "plt.plot(np.arange(iterations),Loss_clf1,label='eta0=1')\n",
    "plt.plot(np.arange(iterations),Loss,label='eta0=0.125')\n",
    "plt.grid(True)\n",
    "plt.legend()\n",
    "plt.xlabel('Iteration')\n",
    "plt.ylabel('Training Loss')\n",
    "plt.show()"
   ]
  },
  {
   "cell_type": "code",
   "execution_count": 98,
   "metadata": {},
   "outputs": [],
   "source": [
    "#insted of instatiating a Perceptron class with a new learning rate and re-train the model\n",
    "# use best_estimator \n",
    "best_bin_clf=bin_clf_gscv.best_estimator_"
   ]
  },
  {
   "cell_type": "code",
   "execution_count": 99,
   "metadata": {},
   "outputs": [
    {
     "name": "stdout",
     "output_type": "stream",
     "text": [
      "              precision    recall  f1-score   support\n",
      "\n",
      "        -1.0       0.99      1.00      0.99     54077\n",
      "         1.0       0.98      0.93      0.95      5923\n",
      "\n",
      "    accuracy                           0.99     60000\n",
      "   macro avg       0.99      0.96      0.97     60000\n",
      "weighted avg       0.99      0.99      0.99     60000\n",
      "\n"
     ]
    }
   ],
   "source": [
    "y_hat_train_0=bin_clf.predict(x_train)\n",
    "print(classification_report(y_train_0,y_hat_train_0))"
   ]
  },
  {
   "cell_type": "code",
   "execution_count": null,
   "metadata": {},
   "outputs": [],
   "source": []
  }
 ],
 "metadata": {
  "interpreter": {
   "hash": "2c90b65b29ad7a427d808c182043d8d4808ccc3429de24b1eb6de7f8d63f161b"
  },
  "kernelspec": {
   "display_name": "Python 3.9.12 ('base')",
   "language": "python",
   "name": "python3"
  },
  "language_info": {
   "codemirror_mode": {
    "name": "ipython",
    "version": 3
   },
   "file_extension": ".py",
   "mimetype": "text/x-python",
   "name": "python",
   "nbconvert_exporter": "python",
   "pygments_lexer": "ipython3",
   "version": "3.9.12"
  },
  "orig_nbformat": 4
 },
 "nbformat": 4,
 "nbformat_minor": 2
}
